{
 "cells": [
  {
   "cell_type": "code",
   "execution_count": 1,
   "metadata": {
    "executionInfo": {
     "elapsed": 11,
     "status": "ok",
     "timestamp": 1678801708705,
     "user": {
      "displayName": "오효근",
      "userId": "07029871735120509626"
     },
     "user_tz": -540
    },
    "id": "XW6Sv-sDbZbi"
   },
   "outputs": [],
   "source": [
    "import os\n",
    "\n",
    "os.chdir('/content/drive/MyDrive/PANPP')\n",
    "!pip install -r requirement.txt"
   ]
  },
  {
   "cell_type": "code",
   "execution_count": 2,
   "metadata": {
    "executionInfo": {
     "elapsed": 10,
     "status": "ok",
     "timestamp": 1678801708705,
     "user": {
      "displayName": "오효근",
      "userId": "07029871735120509626"
     },
     "user_tz": -540
    },
    "id": "ArxxzwfitqBw"
   },
   "outputs": [],
   "source": [
    "import shutil\n",
    "\n",
    "\n",
    "PANPP = os.getcwd()\n",
    "os.chdir(PANPP + '/data')\n",
    "\n",
    "if False:\n",
    "    # Reset Training & Test Data\n",
    "    print('Reset Training & Test Data')\n",
    "    try:\n",
    "        shutil.rmtree('TrainingData')\n",
    "    except:\n",
    "        pass\n",
    "    try:\n",
    "        shutil.rmtree('TestData')\n",
    "    except:\n",
    "        pass\n",
    "    os.mkdir('TrainingData')\n",
    "    os.mkdir('TestData')\n",
    "    os.chdir('TrainingData')\n",
    "    os.mkdir('image')\n",
    "    os.mkdir('txt')\n",
    "    os.chdir('../TestData')\n",
    "    os.mkdir('image')\n",
    "    os.mkdir('txt')\n",
    "    os.chdir('..')\n",
    "    \n",
    "os.chdir(PANPP)"
   ]
  },
  {
   "cell_type": "code",
   "execution_count": 3,
   "metadata": {},
   "outputs": [],
   "source": [
    "import csv\n",
    "import numpy as np\n",
    "import pandas as pd\n",
    "\n",
    "from tqdm import tqdm\n",
    "import cv2\n",
    "\n",
    "\n",
    "def saveData(target, brand, img):\n",
    "    if target == 'Train':\n",
    "        targetDir = PANPP + '/data/TrainingData'\n",
    "    elif target == 'Test':\n",
    "        targetDir = PANPP + '/data/TestData'\n",
    "    absDataDir = PANPP + '/data/FlickrLogos-v2'\n",
    "    # Make Target Data: IMG\n",
    "    absImgDir = absDataDir + '/classes/jpg/' + brand + '/' + img\n",
    "    shutil.copy(absImgDir, targetDir + '/image/' + img)\n",
    "    # Make Target Data: Bbox (GT)\n",
    "    absBboxDir = absDataDir + '/classes/masks/' + brand.lower() + '/' + img + '.bboxes.txt'\n",
    "    bbox = pd.read_csv(absBboxDir, sep=' ')\n",
    "    with open(targetDir + '/txt/' + img[:-4] + '.txt', 'a', encoding='utf-8') as f:\n",
    "        wr = csv.writer(f)\n",
    "        for i in range(len(bbox)):\n",
    "            x, y, width, height = bbox.iloc[i]\n",
    "            pos = (x + width // 2, y + height // 2)\n",
    "            length = (width, height)\n",
    "            deg = 0\n",
    "            tmp = cv2.boxPoints((pos, length, deg))\n",
    "            poly = np.array(tmp).astype(np.int32).reshape((-1))\n",
    "            wr.writerow(poly)\n",
    "    \n",
    "os.chdir(PANPP + '/data/FlickrLogos-v2/classes/jpg')\n",
    "\n",
    "cnt = 0\n",
    "for brand in tqdm(os.listdir()):\n",
    "    if not '.' in brand and not brand == 'no-logo':\n",
    "        os.chdir(PANPP + '/data/FlickrLogos-v2/classes/jpg/' + brand)\n",
    "        for img in tqdm(os.listdir()):\n",
    "            if '.jpg' in img:\n",
    "                if cnt % 12 == 0:\n",
    "                    saveData('Test', brand, img)\n",
    "                else:\n",
    "                    saveData('Train', brand, img)\n",
    "                cnt += 1"
   ]
  },
  {
   "cell_type": "code",
   "execution_count": 4,
   "metadata": {
    "colab": {
     "base_uri": "https://localhost:8080/"
    },
    "executionInfo": {
     "elapsed": 573,
     "status": "ok",
     "timestamp": 1678801709268,
     "user": {
      "displayName": "오효근",
      "userId": "07029871735120509626"
     },
     "user_tz": -540
    },
    "id": "NgeD5DKQXcNU",
    "outputId": "028cf6e4-7931-49e5-c8f1-72a20af2104f"
   },
   "outputs": [
    {
     "name": "stdout",
     "output_type": "stream",
     "text": [
      "Training Data: No. Images 2053\n",
      "Training Data: No. GT 2053\n",
      "Test Data: No. Images 187\n",
      "Test Data: No. GT 187\n"
     ]
    }
   ],
   "source": [
    "# Total Dat: 2240\n",
    "\n",
    "os.chdir(PANPP + '/data/TrainingData/image')\n",
    "print('Training Data: No. Images', len(os.listdir()))\n",
    "\n",
    "os.chdir(PANPP + '/data/TrainingData/txt')\n",
    "print('Training Data: No. GT', len(os.listdir()))\n",
    "\n",
    "os.chdir(PANPP + '/data/TestData/image')\n",
    "print('Test Data: No. Images', len(os.listdir()))\n",
    "\n",
    "os.chdir(PANPP + '/data/TestData/txt')\n",
    "print('Test Data: No. GT', len(os.listdir()))\n",
    "\n",
    "os.chdir(PANPP)"
   ]
  },
  {
   "cell_type": "code",
   "execution_count": 5,
   "metadata": {
    "executionInfo": {
     "elapsed": 2,
     "status": "ok",
     "timestamp": 1678801709268,
     "user": {
      "displayName": "오효근",
      "userId": "07029871735120509626"
     },
     "user_tz": -540
    },
    "id": "klXx2aiMZZg8"
   },
   "outputs": [],
   "source": [
    "!sh train.sh"
   ]
  },
  {
   "cell_type": "code",
   "execution_count": 6,
   "metadata": {
    "executionInfo": {
     "elapsed": 3,
     "status": "ok",
     "timestamp": 1678801709269,
     "user": {
      "displayName": "오효근",
      "userId": "07029871735120509626"
     },
     "user_tz": -540
    },
    "id": "6TuqIZ2HiuTt"
   },
   "outputs": [],
   "source": [
    "# !sh test.sh"
   ]
  }
 ],
 "metadata": {
  "accelerator": "GPU",
  "colab": {
   "authorship_tag": "ABX9TyOqWTLn4vOeg1MbSF8c+MSW",
   "mount_file_id": "11NaPjzQ0KqGHSsF98WUq-8oqh8Oc-TFQ",
   "provenance": []
  },
  "gpuClass": "standard",
  "kernelspec": {
   "display_name": "Python 3",
   "language": "python",
   "name": "python3"
  },
  "language_info": {
   "codemirror_mode": {
    "name": "ipython",
    "version": 3
   },
   "file_extension": ".py",
   "mimetype": "text/x-python",
   "name": "python",
   "nbconvert_exporter": "python",
   "pygments_lexer": "ipython3",
   "version": "3.8.6"
  }
 },
 "nbformat": 4,
 "nbformat_minor": 4
}
